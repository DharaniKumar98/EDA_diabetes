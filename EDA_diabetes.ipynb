{
 "cells": [
  {
   "cell_type": "markdown",
   "id": "21325b53",
   "metadata": {},
   "source": [
    "# Exploratory Data Analysis to predict the onset of diabetes"
   ]
  },
  {
   "cell_type": "markdown",
   "id": "2a04294f",
   "metadata": {},
   "source": [
    "This dataset is originally from the National Institute of Diabetes and Digestive and Kidney Diseases. The objective of the dataset is to diagnostically predict whether a patient has diabetes, based on certain diagnostic measurements included in the dataset."
   ]
  },
  {
   "cell_type": "markdown",
   "id": "a4af706b",
   "metadata": {},
   "source": [
    "# Data contains\n",
    "\n",
    "### Pregnancies: Number of times pregnant\n",
    "\n",
    "### Glucose: Plasma glucose concentration a 2 hours in an oral glucose tolerance test\n",
    "\n",
    "### BloodPressure: Diastolic blood pressure (mm Hg)\n",
    "\n",
    "### SkinThickness: Triceps skin fold thickness (mm)\n",
    "\n",
    "### Insulin: 2-Hour serum insulin (mu U/ml)\n",
    "\n",
    "### BMI: Body mass index (weight in kg/(height in m)^2)\n",
    "\n",
    "### DiabetesPedigreeFunction: Diabetes pedigree function\n",
    "\n",
    "### Age: Age (years)\n",
    "\n",
    "### Outcome: 1 if diabetes, 0 if no diabetes"
   ]
  },
  {
   "cell_type": "markdown",
   "id": "db645a81",
   "metadata": {},
   "source": [
    "## Importing the required libraries"
   ]
  },
  {
   "cell_type": "code",
   "execution_count": 246,
   "id": "af87a02e",
   "metadata": {},
   "outputs": [],
   "source": [
    "%matplotlib inline\n",
    "import pandas as pd\n",
    "import numpy as np\n",
    "import matplotlib.pyplot as plt"
   ]
  },
  {
   "cell_type": "markdown",
   "id": "78755240",
   "metadata": {},
   "source": [
    "##  Loading the data set"
   ]
  },
  {
   "cell_type": "code",
   "execution_count": 131,
   "id": "52a5a77c",
   "metadata": {},
   "outputs": [],
   "source": [
    "df=pd.read_csv(r'C:\\Users\\dharun\\Downloads/diabetes.csv')"
   ]
  },
  {
   "cell_type": "markdown",
   "id": "9bd05881",
   "metadata": {},
   "source": [
    "### Exploring the data"
   ]
  },
  {
   "cell_type": "code",
   "execution_count": 138,
   "id": "f1dce16d",
   "metadata": {},
   "outputs": [
    {
     "name": "stdout",
     "output_type": "stream",
     "text": [
      "(768, 9)\n"
     ]
    }
   ],
   "source": [
    "print(df.shape) # displays the number of rows & columns present in dataset in the form of a tuple. "
   ]
  },
  {
   "cell_type": "code",
   "execution_count": 139,
   "id": "8713ba63",
   "metadata": {},
   "outputs": [
    {
     "name": "stdout",
     "output_type": "stream",
     "text": [
      "<class 'pandas.core.frame.DataFrame'>\n",
      "RangeIndex: 768 entries, 0 to 767\n",
      "Data columns (total 9 columns):\n",
      " #   Column                    Non-Null Count  Dtype  \n",
      "---  ------                    --------------  -----  \n",
      " 0   Pregnancies               768 non-null    int64  \n",
      " 1   Glucose                   768 non-null    int64  \n",
      " 2   BloodPressure             768 non-null    int64  \n",
      " 3   SkinThickness             768 non-null    int64  \n",
      " 4   Insulin                   768 non-null    int64  \n",
      " 5   BMI                       768 non-null    float64\n",
      " 6   DiabetesPedigreeFunction  768 non-null    float64\n",
      " 7   Age                       768 non-null    int64  \n",
      " 8   Outcome                   768 non-null    int64  \n",
      "dtypes: float64(2), int64(7)\n",
      "memory usage: 54.1 KB\n"
     ]
    }
   ],
   "source": [
    "df.info()"
   ]
  },
  {
   "cell_type": "markdown",
   "id": "4d6dfff1",
   "metadata": {},
   "source": [
    "The info method of the dataframe gives us information about the number of non-null entries in the each column & the datatype of each column.\n",
    "\n",
    "Here every column has 768 entries. This tell us that there are no null values in the data.\n",
    "\n",
    "And all the columns contain numerical data(i.e., both discrete (int64) & continous(float64) type of data are present )"
   ]
  },
  {
   "cell_type": "code",
   "execution_count": 141,
   "id": "f2e8aa18",
   "metadata": {},
   "outputs": [
    {
     "data": {
      "text/html": [
       "<div>\n",
       "<style scoped>\n",
       "    .dataframe tbody tr th:only-of-type {\n",
       "        vertical-align: middle;\n",
       "    }\n",
       "\n",
       "    .dataframe tbody tr th {\n",
       "        vertical-align: top;\n",
       "    }\n",
       "\n",
       "    .dataframe thead th {\n",
       "        text-align: right;\n",
       "    }\n",
       "</style>\n",
       "<table border=\"1\" class=\"dataframe\">\n",
       "  <thead>\n",
       "    <tr style=\"text-align: right;\">\n",
       "      <th></th>\n",
       "      <th>Pregnancies</th>\n",
       "      <th>Glucose</th>\n",
       "      <th>BloodPressure</th>\n",
       "      <th>SkinThickness</th>\n",
       "      <th>Insulin</th>\n",
       "      <th>BMI</th>\n",
       "      <th>DiabetesPedigreeFunction</th>\n",
       "      <th>Age</th>\n",
       "      <th>Outcome</th>\n",
       "    </tr>\n",
       "  </thead>\n",
       "  <tbody>\n",
       "    <tr>\n",
       "      <th>0</th>\n",
       "      <td>6</td>\n",
       "      <td>148</td>\n",
       "      <td>72</td>\n",
       "      <td>35</td>\n",
       "      <td>0</td>\n",
       "      <td>33.6</td>\n",
       "      <td>0.627</td>\n",
       "      <td>50</td>\n",
       "      <td>1</td>\n",
       "    </tr>\n",
       "    <tr>\n",
       "      <th>1</th>\n",
       "      <td>1</td>\n",
       "      <td>85</td>\n",
       "      <td>66</td>\n",
       "      <td>29</td>\n",
       "      <td>0</td>\n",
       "      <td>26.6</td>\n",
       "      <td>0.351</td>\n",
       "      <td>31</td>\n",
       "      <td>0</td>\n",
       "    </tr>\n",
       "    <tr>\n",
       "      <th>2</th>\n",
       "      <td>8</td>\n",
       "      <td>183</td>\n",
       "      <td>64</td>\n",
       "      <td>0</td>\n",
       "      <td>0</td>\n",
       "      <td>23.3</td>\n",
       "      <td>0.672</td>\n",
       "      <td>32</td>\n",
       "      <td>1</td>\n",
       "    </tr>\n",
       "    <tr>\n",
       "      <th>3</th>\n",
       "      <td>1</td>\n",
       "      <td>89</td>\n",
       "      <td>66</td>\n",
       "      <td>23</td>\n",
       "      <td>94</td>\n",
       "      <td>28.1</td>\n",
       "      <td>0.167</td>\n",
       "      <td>21</td>\n",
       "      <td>0</td>\n",
       "    </tr>\n",
       "    <tr>\n",
       "      <th>4</th>\n",
       "      <td>0</td>\n",
       "      <td>137</td>\n",
       "      <td>40</td>\n",
       "      <td>35</td>\n",
       "      <td>168</td>\n",
       "      <td>43.1</td>\n",
       "      <td>2.288</td>\n",
       "      <td>33</td>\n",
       "      <td>1</td>\n",
       "    </tr>\n",
       "    <tr>\n",
       "      <th>5</th>\n",
       "      <td>5</td>\n",
       "      <td>116</td>\n",
       "      <td>74</td>\n",
       "      <td>0</td>\n",
       "      <td>0</td>\n",
       "      <td>25.6</td>\n",
       "      <td>0.201</td>\n",
       "      <td>30</td>\n",
       "      <td>0</td>\n",
       "    </tr>\n",
       "    <tr>\n",
       "      <th>6</th>\n",
       "      <td>3</td>\n",
       "      <td>78</td>\n",
       "      <td>50</td>\n",
       "      <td>32</td>\n",
       "      <td>88</td>\n",
       "      <td>31.0</td>\n",
       "      <td>0.248</td>\n",
       "      <td>26</td>\n",
       "      <td>1</td>\n",
       "    </tr>\n",
       "    <tr>\n",
       "      <th>7</th>\n",
       "      <td>10</td>\n",
       "      <td>115</td>\n",
       "      <td>0</td>\n",
       "      <td>0</td>\n",
       "      <td>0</td>\n",
       "      <td>35.3</td>\n",
       "      <td>0.134</td>\n",
       "      <td>29</td>\n",
       "      <td>0</td>\n",
       "    </tr>\n",
       "    <tr>\n",
       "      <th>8</th>\n",
       "      <td>2</td>\n",
       "      <td>197</td>\n",
       "      <td>70</td>\n",
       "      <td>45</td>\n",
       "      <td>543</td>\n",
       "      <td>30.5</td>\n",
       "      <td>0.158</td>\n",
       "      <td>53</td>\n",
       "      <td>1</td>\n",
       "    </tr>\n",
       "    <tr>\n",
       "      <th>9</th>\n",
       "      <td>8</td>\n",
       "      <td>125</td>\n",
       "      <td>96</td>\n",
       "      <td>0</td>\n",
       "      <td>0</td>\n",
       "      <td>0.0</td>\n",
       "      <td>0.232</td>\n",
       "      <td>54</td>\n",
       "      <td>1</td>\n",
       "    </tr>\n",
       "  </tbody>\n",
       "</table>\n",
       "</div>"
      ],
      "text/plain": [
       "   Pregnancies  Glucose  BloodPressure  SkinThickness  Insulin   BMI  \\\n",
       "0            6      148             72             35        0  33.6   \n",
       "1            1       85             66             29        0  26.6   \n",
       "2            8      183             64              0        0  23.3   \n",
       "3            1       89             66             23       94  28.1   \n",
       "4            0      137             40             35      168  43.1   \n",
       "5            5      116             74              0        0  25.6   \n",
       "6            3       78             50             32       88  31.0   \n",
       "7           10      115              0              0        0  35.3   \n",
       "8            2      197             70             45      543  30.5   \n",
       "9            8      125             96              0        0   0.0   \n",
       "\n",
       "   DiabetesPedigreeFunction  Age  Outcome  \n",
       "0                     0.627   50        1  \n",
       "1                     0.351   31        0  \n",
       "2                     0.672   32        1  \n",
       "3                     0.167   21        0  \n",
       "4                     2.288   33        1  \n",
       "5                     0.201   30        0  \n",
       "6                     0.248   26        1  \n",
       "7                     0.134   29        0  \n",
       "8                     0.158   53        1  \n",
       "9                     0.232   54        1  "
      ]
     },
     "execution_count": 141,
     "metadata": {},
     "output_type": "execute_result"
    }
   ],
   "source": [
    "df.head(10)"
   ]
  },
  {
   "cell_type": "markdown",
   "id": "2b033dbd",
   "metadata": {},
   "source": [
    "The head method displays the specified number of records from the dataset.\n",
    "\n",
    "It can be seen that some of the columns has zero as values.\n",
    "\n",
    "For instance SkinThickness column has zero values which is practically impossible. This shows that data is wrongly mapped , so these are missing values which need to taken care off.\n",
    "\n",
    "Except pregnancies & outcome columns , if other columns have value as zero then that data is wrong mapped data."
   ]
  },
  {
   "cell_type": "code",
   "execution_count": 147,
   "id": "c034c459",
   "metadata": {},
   "outputs": [
    {
     "name": "stdout",
     "output_type": "stream",
     "text": [
      "count of rows with glucose as zero : 5\n",
      "count of rows with BloodPressure as zero : 35\n",
      "count of rows with SkinThickness as zero : 227\n",
      "count of rows with Insulin as zero : 374\n",
      "count of rows with BMI as zero : 11\n"
     ]
    }
   ],
   "source": [
    "x1 = df[df['Glucose']==0]\n",
    "print('count of rows with glucose as zero : {}'.format(len(x1)))\n",
    "x2= df[df['BloodPressure']==0]\n",
    "print('count of rows with BloodPressure as zero : {}'.format(len(x2)))\n",
    "x3 = df[df['SkinThickness']==0]\n",
    "print('count of rows with SkinThickness as zero : {}'.format(len(x3)))\n",
    "x4 = df[df['Insulin']==0]\n",
    "print('count of rows with Insulin as zero : {}'.format(len(x4)))\n",
    "x5= df[df['BMI']==0]\n",
    "print('count of rows with BMI as zero : {}'.format(len(x5)))"
   ]
  },
  {
   "cell_type": "markdown",
   "id": "f752153f",
   "metadata": {},
   "source": [
    "There are a lot of zero's present in the different variables , which indicates the presence of lot missing or incorrect values.\n",
    "\n",
    "we need to deal with it.\n",
    "\n",
    "there are two ways to deal with \n",
    "\n",
    "one is to drop all observations with zero values.\n",
    "\n",
    "& the other way is to replace such values with appropriate measure of central tendency."
   ]
  },
  {
   "cell_type": "markdown",
   "id": "9c0737b4",
   "metadata": {},
   "source": [
    "### Measures of central tendency for Glucose and outcome column."
   ]
  },
  {
   "cell_type": "code",
   "execution_count": 161,
   "id": "b3730139",
   "metadata": {},
   "outputs": [
    {
     "name": "stdout",
     "output_type": "stream",
     "text": [
      "Mean \n",
      " Outcome\n",
      "0    109.980000\n",
      "1    141.257463\n",
      "Name: Glucose, dtype: float64\n",
      "Median \n",
      " Outcome\n",
      "0    107\n",
      "1    140\n",
      "Name: Glucose, dtype: int64\n"
     ]
    }
   ],
   "source": [
    "#df.groupby('Outcome').Glucose.describe()\n",
    "print('Mean \\n {}'.format(df.groupby('Outcome').Glucose.mean()))\n",
    "\n",
    "print('Median \\n {}'.format(df.groupby('Outcome').Glucose.median()))"
   ]
  },
  {
   "cell_type": "markdown",
   "id": "26441ee8",
   "metadata": {},
   "source": [
    "From the above results we can see the that diabetic one's( i.e., outcome =1 ) have high glucose values"
   ]
  },
  {
   "cell_type": "markdown",
   "id": "b3388519",
   "metadata": {},
   "source": [
    "### understanding 5 points data summaries for numerical columns"
   ]
  },
  {
   "cell_type": "markdown",
   "id": "5e5ef51b",
   "metadata": {},
   "source": [
    "5 points data summaries provides us with 5 different measures of the data  \n",
    "which are  (minimun , maximum , 25th percentile , 75th percentile , median)   \n",
    "\n",
    "describe() method of pandas gives all the 5 mentioned summary measures of numerical variable its applied on. "
   ]
  },
  {
   "cell_type": "code",
   "execution_count": 179,
   "id": "3782aac1",
   "metadata": {},
   "outputs": [
    {
     "data": {
      "text/html": [
       "<div>\n",
       "<style scoped>\n",
       "    .dataframe tbody tr th:only-of-type {\n",
       "        vertical-align: middle;\n",
       "    }\n",
       "\n",
       "    .dataframe tbody tr th {\n",
       "        vertical-align: top;\n",
       "    }\n",
       "\n",
       "    .dataframe thead th {\n",
       "        text-align: right;\n",
       "    }\n",
       "</style>\n",
       "<table border=\"1\" class=\"dataframe\">\n",
       "  <thead>\n",
       "    <tr style=\"text-align: right;\">\n",
       "      <th></th>\n",
       "      <th>Glucose</th>\n",
       "      <th>BloodPressure</th>\n",
       "      <th>SkinThickness</th>\n",
       "      <th>Insulin</th>\n",
       "      <th>BMI</th>\n",
       "    </tr>\n",
       "  </thead>\n",
       "  <tbody>\n",
       "    <tr>\n",
       "      <th>count</th>\n",
       "      <td>768.000000</td>\n",
       "      <td>768.000000</td>\n",
       "      <td>768.000000</td>\n",
       "      <td>768.000000</td>\n",
       "      <td>768.000000</td>\n",
       "    </tr>\n",
       "    <tr>\n",
       "      <th>mean</th>\n",
       "      <td>120.894531</td>\n",
       "      <td>69.105469</td>\n",
       "      <td>20.536458</td>\n",
       "      <td>79.799479</td>\n",
       "      <td>31.992578</td>\n",
       "    </tr>\n",
       "    <tr>\n",
       "      <th>std</th>\n",
       "      <td>31.972618</td>\n",
       "      <td>19.355807</td>\n",
       "      <td>15.952218</td>\n",
       "      <td>115.244002</td>\n",
       "      <td>7.884160</td>\n",
       "    </tr>\n",
       "    <tr>\n",
       "      <th>min</th>\n",
       "      <td>0.000000</td>\n",
       "      <td>0.000000</td>\n",
       "      <td>0.000000</td>\n",
       "      <td>0.000000</td>\n",
       "      <td>0.000000</td>\n",
       "    </tr>\n",
       "    <tr>\n",
       "      <th>25%</th>\n",
       "      <td>99.000000</td>\n",
       "      <td>62.000000</td>\n",
       "      <td>0.000000</td>\n",
       "      <td>0.000000</td>\n",
       "      <td>27.300000</td>\n",
       "    </tr>\n",
       "    <tr>\n",
       "      <th>50%</th>\n",
       "      <td>117.000000</td>\n",
       "      <td>72.000000</td>\n",
       "      <td>23.000000</td>\n",
       "      <td>30.500000</td>\n",
       "      <td>32.000000</td>\n",
       "    </tr>\n",
       "    <tr>\n",
       "      <th>75%</th>\n",
       "      <td>140.250000</td>\n",
       "      <td>80.000000</td>\n",
       "      <td>32.000000</td>\n",
       "      <td>127.250000</td>\n",
       "      <td>36.600000</td>\n",
       "    </tr>\n",
       "    <tr>\n",
       "      <th>max</th>\n",
       "      <td>199.000000</td>\n",
       "      <td>122.000000</td>\n",
       "      <td>99.000000</td>\n",
       "      <td>846.000000</td>\n",
       "      <td>67.100000</td>\n",
       "    </tr>\n",
       "  </tbody>\n",
       "</table>\n",
       "</div>"
      ],
      "text/plain": [
       "          Glucose  BloodPressure  SkinThickness     Insulin         BMI\n",
       "count  768.000000     768.000000     768.000000  768.000000  768.000000\n",
       "mean   120.894531      69.105469      20.536458   79.799479   31.992578\n",
       "std     31.972618      19.355807      15.952218  115.244002    7.884160\n",
       "min      0.000000       0.000000       0.000000    0.000000    0.000000\n",
       "25%     99.000000      62.000000       0.000000    0.000000   27.300000\n",
       "50%    117.000000      72.000000      23.000000   30.500000   32.000000\n",
       "75%    140.250000      80.000000      32.000000  127.250000   36.600000\n",
       "max    199.000000     122.000000      99.000000  846.000000   67.100000"
      ]
     },
     "execution_count": 179,
     "metadata": {},
     "output_type": "execute_result"
    }
   ],
   "source": [
    "req_cols= df[['Glucose','BloodPressure','SkinThickness','Insulin','BMI']]\n",
    "req_cols.describe()"
   ]
  },
  {
   "cell_type": "markdown",
   "id": "6b390ef6",
   "metadata": {},
   "source": [
    "### A plot to observe the relationship between Age and Glucose."
   ]
  },
  {
   "cell_type": "code",
   "execution_count": 178,
   "id": "e09c4edf",
   "metadata": {},
   "outputs": [
    {
     "data": {
      "image/png": "[encoded data removed]",
      "text/plain": [
       "<Figure size 432x288 with 1 Axes>"
      ]
     },
     "metadata": {
      "needs_background": "light"
     },
     "output_type": "display_data"
    }
   ],
   "source": [
    "plt.scatter('Age','Glucose',data=df)\n",
    "plt.xlabel('Age (years)')\n",
    "plt.ylabel('Glucose (mg/dL)')\n",
    "plt.show()"
   ]
  },
  {
   "cell_type": "code",
   "execution_count": 183,
   "id": "9563542e",
   "metadata": {},
   "outputs": [
    {
     "data": {
      "text/html": [
       "<div>\n",
       "<style scoped>\n",
       "    .dataframe tbody tr th:only-of-type {\n",
       "        vertical-align: middle;\n",
       "    }\n",
       "\n",
       "    .dataframe tbody tr th {\n",
       "        vertical-align: top;\n",
       "    }\n",
       "\n",
       "    .dataframe thead th {\n",
       "        text-align: right;\n",
       "    }\n",
       "</style>\n",
       "<table border=\"1\" class=\"dataframe\">\n",
       "  <thead>\n",
       "    <tr style=\"text-align: right;\">\n",
       "      <th></th>\n",
       "      <th>Age</th>\n",
       "      <th>Glucose</th>\n",
       "    </tr>\n",
       "  </thead>\n",
       "  <tbody>\n",
       "    <tr>\n",
       "      <th>Age</th>\n",
       "      <td>1.000000</td>\n",
       "      <td>0.263514</td>\n",
       "    </tr>\n",
       "    <tr>\n",
       "      <th>Glucose</th>\n",
       "      <td>0.263514</td>\n",
       "      <td>1.000000</td>\n",
       "    </tr>\n",
       "  </tbody>\n",
       "</table>\n",
       "</div>"
      ],
      "text/plain": [
       "              Age   Glucose\n",
       "Age      1.000000  0.263514\n",
       "Glucose  0.263514  1.000000"
      ]
     },
     "execution_count": 183,
     "metadata": {},
     "output_type": "execute_result"
    }
   ],
   "source": [
    "df[['Age','Glucose']].corr()"
   ]
  },
  {
   "cell_type": "markdown",
   "id": "40ce18fb",
   "metadata": {},
   "source": [
    "From the plot and crosstab data it clearly visible that Age & Glucose have low degree of correlation. "
   ]
  },
  {
   "cell_type": "markdown",
   "id": "5a367d26",
   "metadata": {},
   "source": [
    "### A plot to see the distribution of Outcome variable"
   ]
  },
  {
   "cell_type": "code",
   "execution_count": 242,
   "id": "df189689",
   "metadata": {},
   "outputs": [
    {
     "data": {
      "image/png": "[encoded data removed]",
      "text/plain": [
       "<Figure size 432x288 with 1 Axes>"
      ]
     },
     "metadata": {
      "needs_background": "light"
     },
     "output_type": "display_data"
    }
   ],
   "source": [
    "plt.hist('Outcome',data=df)\n",
    "plt.show()\n"
   ]
  },
  {
   "cell_type": "markdown",
   "id": "be21bf14",
   "metadata": {},
   "source": [
    "### understanding the distribution of all numerical features except outcome"
   ]
  },
  {
   "cell_type": "code",
   "execution_count": 232,
   "id": "2b00f940",
   "metadata": {},
   "outputs": [
    {
     "data": {
      "image/png": "[encoded data removed]",
      "text/plain": [
       "<Figure size 1800x1224 with 8 Axes>"
      ]
     },
     "metadata": {
      "needs_background": "light"
     },
     "output_type": "display_data"
    }
   ],
   "source": [
    "plt.figure(figsize=(25,17))\n",
    "c=1\n",
    "for i in df.columns[:-1]:\n",
    "    plt.subplot(3,3,c)\n",
    "    plt.xlabel(i)\n",
    "    plt.hist(df[i])\n",
    "    c +=1\n",
    "plt.show()  "
   ]
  },
  {
   "cell_type": "markdown",
   "id": "05182add",
   "metadata": {},
   "source": [
    "From the plots it can be observed that (Glucose , SkinThickness, BMI) seem to be normally distributed\n",
    "\n",
    "And all other variables are skewed \n",
    "\n",
    "Pregnancies : right skewed\n",
    "\n",
    "BloodPressure : left skewed\n",
    "\n",
    "Insulin : right skewed\n",
    "\n",
    "DiabetesPedigreeFunction : right skewed \n",
    "\n",
    "Age : right skewed"
   ]
  },
  {
   "cell_type": "markdown",
   "id": "4fdbc97f",
   "metadata": {},
   "source": [
    "### Based on the skewness value variables divided into symmetrical, moderately skewed and highly skewed."
   ]
  },
  {
   "cell_type": "code",
   "execution_count": 241,
   "id": "ce41a415",
   "metadata": {},
   "outputs": [
    {
     "name": "stdout",
     "output_type": "stream",
     "text": [
      "Pregnancies : 0.9016739791518588\n",
      "Glucose : 0.17375350179188992\n",
      "BloodPressure : -1.8436079833551302\n",
      "SkinThickness : 0.10937249648187608\n",
      "Insulin : 2.272250858431574\n",
      "BMI : -0.42898158845356543\n",
      "DiabetesPedigreeFunction : 1.919911066307204\n",
      "Age : 1.1295967011444805\n"
     ]
    }
   ],
   "source": [
    "c=1\n",
    "for i in df.columns[:-1]:\n",
    "    print(i + ' : ' + str(df[i].skew()))"
   ]
  },
  {
   "cell_type": "markdown",
   "id": "8794889c",
   "metadata": {},
   "source": [
    "Based on the skewness value variables can be classified as symmetrical, moderately skewed and highly skewed.\n",
    "\n",
    " * A varible is symmetrical variable if skew value is between -0.5 & 0.5\n",
    "\n",
    " * A varible is moderatley skewed variable if skew value is between -1 & -0.5 or 0.5 & 1\n",
    "\n",
    " * A varible is highly skewed variable if skew value is below -1 or above 1\n",
    "\n",
    "Symmetrical variables         : ( Glucose , SkinThickness, BMI )\n",
    "\n",
    "moderatley skewed variables   : ( Pregnancies )\n",
    "\n",
    "highly skewed variables       : ( BloodPressure , Insulin , DiabetesPedigreeFunction , Age )\n"
   ]
  },
  {
   "cell_type": "markdown",
   "id": "75c12529",
   "metadata": {},
   "source": [
    "### Measures of central tendency and dispersion for skewed data."
   ]
  },
  {
   "cell_type": "markdown",
   "id": "f3ac890a",
   "metadata": {},
   "source": [
    "Median is a measure of central tendency that is good to use with skewed data.\n",
    "Because median is not influenced by outliers.\n",
    "\n",
    "IQR is measure of dispersion that is used for skewed data.\n",
    "IQR represents middle 50%  of the data. Its not affected by extreme values .\n"
   ]
  },
  {
   "cell_type": "markdown",
   "id": "acba6781",
   "metadata": {},
   "source": [
    "### plotting the variables to find out the varibles with outilers "
   ]
  },
  {
   "cell_type": "code",
   "execution_count": 240,
   "id": "760d1317",
   "metadata": {},
   "outputs": [
    {
     "data": {
      "image/png": "[encoded data removed]",
      "text/plain": [
       "<Figure size 1800x1224 with 8 Axes>"
      ]
     },
     "metadata": {
      "needs_background": "light"
     },
     "output_type": "display_data"
    }
   ],
   "source": [
    "plt.figure(figsize=(25,17))\n",
    "c=1\n",
    "for i in df.columns[:-1]:\n",
    "    plt.subplot(3,3,c)\n",
    "    plt.xlabel(i)\n",
    "    plt.boxplot(df[i])\n",
    "    c +=1\n",
    "plt.show()  "
   ]
  }
 ],
 "metadata": {
  "kernelspec": {
   "display_name": "Python 3",
   "language": "python",
   "name": "python3"
  },
  "language_info": {
   "codemirror_mode": {
    "name": "ipython",
    "version": 3
   },
   "file_extension": ".py",
   "mimetype": "text/x-python",
   "name": "python",
   "nbconvert_exporter": "python",
   "pygments_lexer": "ipython3",
   "version": "3.8.8"
  }
 },
 "nbformat": 4,
 "nbformat_minor": 5
}
